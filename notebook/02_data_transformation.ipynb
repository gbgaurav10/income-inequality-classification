{
 "cells": [
  {
   "cell_type": "code",
   "execution_count": 1,
   "metadata": {},
   "outputs": [
    {
     "data": {
      "text/plain": [
       "'/config/workspace/notebook'"
      ]
     },
     "execution_count": 1,
     "metadata": {},
     "output_type": "execute_result"
    }
   ],
   "source": [
    "import os, sys\n",
    "%pwd"
   ]
  },
  {
   "cell_type": "code",
   "execution_count": 2,
   "metadata": {},
   "outputs": [
    {
     "data": {
      "text/plain": [
       "'/config/workspace'"
      ]
     },
     "execution_count": 2,
     "metadata": {},
     "output_type": "execute_result"
    }
   ],
   "source": [
    "os.chdir(\"../\")\n",
    "%pwd"
   ]
  },
  {
   "cell_type": "code",
   "execution_count": 3,
   "metadata": {},
   "outputs": [],
   "source": [
    "from dataclasses import dataclass\n",
    "from pathlib import Path \n",
    "\n",
    "\n",
    "@dataclass(frozen=True)\n",
    "class DataTransformationConfig:\n",
    "    root_dir: Path\n",
    "    data_path: Path\n",
    "    preprocessor_path: Path"
   ]
  },
  {
   "cell_type": "code",
   "execution_count": 4,
   "metadata": {},
   "outputs": [],
   "source": [
    "from income_inequality.constants import * \n",
    "from income_inequality.utils.common import read_yaml, create_directories"
   ]
  },
  {
   "cell_type": "code",
   "execution_count": 5,
   "metadata": {},
   "outputs": [],
   "source": [
    "class ConfigurationManager:\n",
    "    def __init__(\n",
    "        self,\n",
    "        config_filepath = CONFIG_FILE_PATH,\n",
    "        params_filepath = PARAMS_FILE_PATH,\n",
    "        schema_filepath = SCHEMA_FILE_PATH):\n",
    "\n",
    "        self.config = read_yaml(config_filepath)\n",
    "        self.params = read_yaml(params_filepath)\n",
    "        self.schema = read_yaml(schema_filepath)\n",
    "\n",
    "        create_directories([self.config.artifacts_root])\n",
    "\n",
    "    \n",
    "    def get_data_transformation_config(self) -> DataTransformationConfig:\n",
    "        config = self.config.data_transformation \n",
    "\n",
    "        create_directories([config.root_dir])\n",
    "\n",
    "        data_transformation_config = DataTransformationConfig(\n",
    "            root_dir = config.root_dir,\n",
    "            data_path = config.data_path,\n",
    "            preprocessor_path = config.preprocessor_path\n",
    "        )\n",
    "\n",
    "\n",
    "        return data_transformation_config\n",
    "\n"
   ]
  },
  {
   "cell_type": "code",
   "execution_count": 6,
   "metadata": {},
   "outputs": [],
   "source": [
    "import os\n",
    "import pandas as pd \n",
    "from sklearn.pipeline import Pipeline\n",
    "from sklearn.impute import SimpleImputer\n",
    "from sklearn.preprocessing import OrdinalEncoder, RobustScaler\n",
    "from sklearn.compose import ColumnTransformer\n",
    "from sklearn.model_selection import train_test_split\n",
    "from income_inequality.logging import logger \n",
    "from imblearn.over_sampling import SMOTE\n",
    "import joblib \n",
    "import warnings\n",
    "warnings.filterwarnings(\"ignore\")\n",
    "\n",
    "\n",
    "class DataTransformation:\n",
    "    def __init__(self, config):\n",
    "        self.config = config\n",
    "        self.preprocessor = None \n",
    "        self.transformed_df = None \n",
    "\n",
    "    def get_data_transformation(self):\n",
    "        try:\n",
    "            # Load the dataset\n",
    "            df = pd.read_csv(self.config.data_path)\n",
    "\n",
    "            # Drop some columns which can cause data imbalance\n",
    "            df.drop(columns=[\"ID\", \"is_hispanic\", \"country_of_birth_mother\", \"country_of_birth_own\"], axis=1, inplace=True)\n",
    "\n",
    "            # Drop columns having more than 70% of missing values\n",
    "            missing = df.isna().sum().div(df.shape[0]).mul(100).to_frame().sort_values(by=0, ascending = False)\n",
    "            dropcols = missing[missing[0]>70]\n",
    "            df.drop(list(dropcols.index), axis=1, inplace=True)\n",
    "\n",
    "            # Drop duplicates\n",
    "            df = df.drop_duplicates()\n",
    "\n",
    "            ## Feature Selection\n",
    "            selected_columns = [\"age\", \"stocks_status\", \"wage_per_hour\", \"industry_code\", \"gender\", \"employment_stat\",\n",
    "                                \"citizenship\", \"tax_status\", \"country_of_birth_father\", \"mig_year\", \"income_above_limit\"]\n",
    "\n",
    "            # Drop columns that are not in selected_columns\n",
    "            df = df[selected_columns]\n",
    "\n",
    "            # Define the target column\n",
    "            X = df.drop(columns=[\"income_above_limit\"], axis=1)\n",
    "            y = df[\"income_above_limit\"]\n",
    "\n",
    "            # Manually encode the target variable\n",
    "            y.replace({'Below limit': 0, 'Above limit': 1}, inplace=True)\n",
    "\n",
    "            # Check for missing values in the target variable\n",
    "            if y.isnull().any():\n",
    "                raise ValueError(\"Target variable 'income_above_limit' contains NaN values.\")\n",
    "\n",
    "            # Impute missing values in the target variable (y) with median\n",
    "            y = SimpleImputer(strategy='median').fit_transform(y.values.reshape(-1, 1))\n",
    "            y = y.ravel()\n",
    "\n",
    "            # Define numerical and categorical features\n",
    "            numerical_features = X.select_dtypes(exclude=\"object\").columns \n",
    "            categorical_features = X.select_dtypes(include=\"object\").columns \n",
    "\n",
    "            # Define the Pipeline\n",
    "            num_pipeline = Pipeline(\n",
    "                steps=[\n",
    "                    (\"imputer\", SimpleImputer(strategy=\"median\")),\n",
    "                    (\"scaler\", RobustScaler())\n",
    "                ]\n",
    "            )\n",
    "\n",
    "            cat_pipeline = Pipeline(\n",
    "                steps=[\n",
    "                    (\"imputer\", SimpleImputer(strategy=\"most_frequent\")),\n",
    "                    (\"ordinalencoder\", OrdinalEncoder()),\n",
    "                ]\n",
    "            )\n",
    "\n",
    "            logger.info(f\"Numerical Columns: {numerical_features}\")\n",
    "            logger.info(f\"Categorical Columns: {categorical_features}\")\n",
    "\n",
    "            # Define the preprocessor / transformer\n",
    "            preprocessor = ColumnTransformer(transformers=[\n",
    "                    (\"OrdinalEncoder\", OrdinalEncoder(handle_unknown='use_encoded_value', unknown_value=-1), categorical_features),\n",
    "                    (\"RobustScaler\", RobustScaler(), numerical_features)\n",
    "                ], remainder=\"passthrough\")\n",
    "\n",
    "            self.preprocessor = preprocessor  # store the preprocessor for later usage \n",
    "\n",
    "            # Transform the whole data using the preprocessor\n",
    "            X_transformed = preprocessor.fit_transform(X)\n",
    "\n",
    "            # Get the updated column names after encoding\n",
    "            column_names = numerical_features.to_list() + categorical_features.to_list()\n",
    "\n",
    "            # Combine X_transformed and y back into one dataframe\n",
    "            self.transformed_df = pd.DataFrame(X_transformed, columns=column_names)\n",
    "            self.transformed_df[\"income_above_limit\"] = y \n",
    "\n",
    "            logger.info(\"Data preprocessing Completed\")\n",
    "\n",
    "        except Exception as e:\n",
    "            raise e \n",
    "\n",
    "    def handle_data_imbalance(self):\n",
    "        if self.transformed_df is None:\n",
    "            raise ValueError(\"Data transformation not done. please call get_data_transformation\")\n",
    "\n",
    "        # Split the data into train and test\n",
    "        train, test = train_test_split(self.transformed_df)\n",
    "\n",
    "        # Separate the features and target \n",
    "        X_train = train.drop(columns=[\"income_above_limit\"])\n",
    "        y_train = train[\"income_above_limit\"]\n",
    "\n",
    "        # Handle data imbalance using SMOTE\n",
    "        oversample = SMOTE()\n",
    "        X_train, y_train = oversample.fit_resample(X_train, y_train)\n",
    "\n",
    "        # Save the resampled train set in a CSV file\n",
    "        train_resampled = pd.DataFrame(X_train, columns=X_train.columns)\n",
    "        train_resampled[\"income_above_limit\"] = y_train\n",
    "        train_resampled.to_csv(os.path.join(self.config.root_dir, \"train_resampled.csv\"), index=False)\n",
    "\n",
    "        logger.info(\"Handling data imbalance using SMOTE completed\")\n",
    "\n",
    "    def save_preprocessor(self):\n",
    "        if self.preprocessor is not None:\n",
    "            joblib.dump(self.preprocessor, self.config.preprocessor_path)\n",
    "            logger.info(f\"Preprocessor saved to: {self.config.preprocessor_path}\")\n",
    "        else:\n",
    "            logger.warning(\"Preprocessor is not available. Please call get_data_transformation to create it\")\n",
    "\n",
    "    def train_test_split(self):\n",
    "        if self.preprocessor is None:\n",
    "            raise ValueError(\"Preprocessor is not available. Please call get_data_transformation.\")\n",
    "\n",
    "        # Split the data into train and test set\n",
    "        train, test = train_test_split(self.transformed_df)\n",
    "\n",
    "        # Save the encoded train and test sets in the form of CSV files\n",
    "        train.to_csv(os.path.join(self.config.root_dir, \"train.csv\"), index=False)\n",
    "        test.to_csv(os.path.join(self.config.root_dir, \"test.csv\"), index=False)\n",
    "\n",
    "        logger.info(f\"Splitting the data into train and test set\")\n",
    "        logger.info(f\"Shape of train data: {train.shape}\")\n",
    "        logger.info(f\"Shape of test data: {test.shape}\")\n",
    "\n",
    "\n"
   ]
  },
  {
   "cell_type": "code",
   "execution_count": 7,
   "metadata": {},
   "outputs": [
    {
     "name": "stdout",
     "output_type": "stream",
     "text": [
      "[{asctime}s: INFO: common: yaml file: config/config.yaml loaded successfully]\n",
      "[{asctime}s: INFO: common: yaml file: params.yaml loaded successfully]\n",
      "[{asctime}s: INFO: common: yaml file: schema.yaml loaded successfully]\n",
      "[{asctime}s: INFO: common: created directory at: artifacts]\n",
      "[{asctime}s: INFO: common: created directory at: artifacts/data_transformation]\n",
      "[{asctime}s: INFO: 3461850983: Numerical Columns: Index(['age', 'stocks_status', 'wage_per_hour', 'industry_code',\n",
      "       'employment_stat', 'mig_year'],\n",
      "      dtype='object')]\n",
      "[{asctime}s: INFO: 3461850983: Categorical Columns: Index(['gender', 'citizenship', 'tax_status', 'country_of_birth_father'], dtype='object')]\n",
      "[{asctime}s: INFO: 3461850983: Data preprocessing Completed]\n",
      "[{asctime}s: INFO: 3461850983: Handling data imbalance using SMOTE completed]\n",
      "[{asctime}s: INFO: 3461850983: Preprocessor saved to: artifacts/data_transformation/preprocessor.joblib]\n",
      "[{asctime}s: INFO: 3461850983: Splitting the data into train and test set]\n",
      "[{asctime}s: INFO: 3461850983: Shape of train data: (153492, 11)]\n",
      "[{asctime}s: INFO: 3461850983: Shape of test data: (51164, 11)]\n"
     ]
    }
   ],
   "source": [
    "try:\n",
    "    config = ConfigurationManager()\n",
    "    data_transformation_config = config.get_data_transformation_config()\n",
    "    data_transformation = DataTransformation(config = data_transformation_config)\n",
    "    data_transformation.get_data_transformation()\n",
    "    data_transformation.handle_data_imbalance()\n",
    "    data_transformation.save_preprocessor()\n",
    "    data_transformation.train_test_split()\n",
    "except Exception as e:\n",
    "    raise e"
   ]
  }
 ],
 "metadata": {
  "kernelspec": {
   "display_name": "Python 3.10.13 (conda)",
   "language": "python",
   "name": "python3"
  },
  "language_info": {
   "codemirror_mode": {
    "name": "ipython",
    "version": 3
   },
   "file_extension": ".py",
   "mimetype": "text/x-python",
   "name": "python",
   "nbconvert_exporter": "python",
   "pygments_lexer": "ipython3",
   "version": "3.10.13"
  },
  "orig_nbformat": 4,
  "vscode": {
   "interpreter": {
    "hash": "91bc623ed11c61eb628f0ecaeac4cd0c02f7608af6568c42ccf08c955e9e8432"
   }
  }
 },
 "nbformat": 4,
 "nbformat_minor": 2
}
