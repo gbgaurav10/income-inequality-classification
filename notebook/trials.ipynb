{
 "cells": [
  {
   "cell_type": "code",
   "execution_count": 1,
   "metadata": {},
   "outputs": [
    {
     "data": {
      "text/plain": [
       "'d:\\\\The Machine Learning Company\\\\Machine Learning\\\\income-inequality-classification\\\\notebook'"
      ]
     },
     "execution_count": 1,
     "metadata": {},
     "output_type": "execute_result"
    }
   ],
   "source": [
    "import os, sys \n",
    "%pwd"
   ]
  },
  {
   "cell_type": "code",
   "execution_count": 2,
   "metadata": {},
   "outputs": [
    {
     "data": {
      "text/plain": [
       "'d:\\\\The Machine Learning Company\\\\Machine Learning\\\\income-inequality-classification'"
      ]
     },
     "execution_count": 2,
     "metadata": {},
     "output_type": "execute_result"
    }
   ],
   "source": [
    "os.chdir(\"../\")\n",
    "%pwd"
   ]
  },
  {
   "cell_type": "code",
   "execution_count": 3,
   "metadata": {},
   "outputs": [],
   "source": [
    "import pandas as pd"
   ]
  },
  {
   "cell_type": "code",
   "execution_count": 11,
   "metadata": {},
   "outputs": [
    {
     "data": {
      "text/plain": [
       "(209499, 43)"
      ]
     },
     "execution_count": 11,
     "metadata": {},
     "output_type": "execute_result"
    }
   ],
   "source": [
    "df = pd.read_csv(\"artifacts/data_ingestion/income_inequality_prediction.csv\")\n",
    "\n",
    "df.shape"
   ]
  },
  {
   "cell_type": "code",
   "execution_count": 12,
   "metadata": {},
   "outputs": [],
   "source": [
    "selected_columns = [\"tax_status\", \"citizenship\", \"gender\", \"employment_stat\", \"industry_code\", \"wage_per_hour\", \"mig_year\", \"age\", \"country_of_birth_father\", \"stocks_status\", \"income_above_limit\"]"
   ]
  },
  {
   "cell_type": "code",
   "execution_count": 13,
   "metadata": {},
   "outputs": [],
   "source": [
    "df = df[selected_columns]"
   ]
  },
  {
   "cell_type": "code",
   "execution_count": 14,
   "metadata": {},
   "outputs": [
    {
     "data": {
      "text/plain": [
       "(209499, 11)"
      ]
     },
     "execution_count": 14,
     "metadata": {},
     "output_type": "execute_result"
    }
   ],
   "source": [
    "df.shape"
   ]
  },
  {
   "cell_type": "code",
   "execution_count": 15,
   "metadata": {},
   "outputs": [
    {
     "data": {
      "text/html": [
       "<div>\n",
       "<style scoped>\n",
       "    .dataframe tbody tr th:only-of-type {\n",
       "        vertical-align: middle;\n",
       "    }\n",
       "\n",
       "    .dataframe tbody tr th {\n",
       "        vertical-align: top;\n",
       "    }\n",
       "\n",
       "    .dataframe thead th {\n",
       "        text-align: right;\n",
       "    }\n",
       "</style>\n",
       "<table border=\"1\" class=\"dataframe\">\n",
       "  <thead>\n",
       "    <tr style=\"text-align: right;\">\n",
       "      <th></th>\n",
       "      <th>tax_status</th>\n",
       "      <th>citizenship</th>\n",
       "      <th>gender</th>\n",
       "      <th>employment_stat</th>\n",
       "      <th>industry_code</th>\n",
       "      <th>wage_per_hour</th>\n",
       "      <th>mig_year</th>\n",
       "      <th>age</th>\n",
       "      <th>country_of_birth_father</th>\n",
       "      <th>stocks_status</th>\n",
       "      <th>income_above_limit</th>\n",
       "    </tr>\n",
       "  </thead>\n",
       "  <tbody>\n",
       "    <tr>\n",
       "      <th>0</th>\n",
       "      <td>Head of household</td>\n",
       "      <td>Native</td>\n",
       "      <td>Female</td>\n",
       "      <td>0</td>\n",
       "      <td>0</td>\n",
       "      <td>0</td>\n",
       "      <td>95</td>\n",
       "      <td>79</td>\n",
       "      <td>US</td>\n",
       "      <td>292</td>\n",
       "      <td>Below limit</td>\n",
       "    </tr>\n",
       "    <tr>\n",
       "      <th>1</th>\n",
       "      <td>Single</td>\n",
       "      <td>Native</td>\n",
       "      <td>Female</td>\n",
       "      <td>0</td>\n",
       "      <td>0</td>\n",
       "      <td>0</td>\n",
       "      <td>94</td>\n",
       "      <td>65</td>\n",
       "      <td>US</td>\n",
       "      <td>0</td>\n",
       "      <td>Below limit</td>\n",
       "    </tr>\n",
       "  </tbody>\n",
       "</table>\n",
       "</div>"
      ],
      "text/plain": [
       "           tax_status citizenship   gender  employment_stat  industry_code  \\\n",
       "0   Head of household      Native   Female                0              0   \n",
       "1              Single      Native   Female                0              0   \n",
       "\n",
       "   wage_per_hour  mig_year  age country_of_birth_father  stocks_status  \\\n",
       "0              0        95   79                      US            292   \n",
       "1              0        94   65                      US              0   \n",
       "\n",
       "  income_above_limit  \n",
       "0        Below limit  \n",
       "1        Below limit  "
      ]
     },
     "execution_count": 15,
     "metadata": {},
     "output_type": "execute_result"
    }
   ],
   "source": [
    "df.head(2)"
   ]
  },
  {
   "cell_type": "code",
   "execution_count": 29,
   "metadata": {},
   "outputs": [
    {
     "data": {
      "text/plain": [
       "0"
      ]
     },
     "execution_count": 29,
     "metadata": {},
     "output_type": "execute_result"
    }
   ],
   "source": [
    "min(df[\"age\"])"
   ]
  },
  {
   "cell_type": "code",
   "execution_count": 30,
   "metadata": {},
   "outputs": [
    {
     "data": {
      "text/plain": [
       "90"
      ]
     },
     "execution_count": 30,
     "metadata": {},
     "output_type": "execute_result"
    }
   ],
   "source": [
    "max(df[\"age\"])"
   ]
  },
  {
   "cell_type": "code",
   "execution_count": 16,
   "metadata": {},
   "outputs": [
    {
     "data": {
      "text/plain": [
       " Nonfiler                        78671\n",
       " Joint both under 65             70617\n",
       " Single                          39429\n",
       " Joint both 65+                   8791\n",
       " Head of household                7882\n",
       " Joint one under 65 & one 65+     4109\n",
       "Name: tax_status, dtype: int64"
      ]
     },
     "execution_count": 16,
     "metadata": {},
     "output_type": "execute_result"
    }
   ],
   "source": [
    "df[\"tax_status\"].value_counts()"
   ]
  },
  {
   "cell_type": "code",
   "execution_count": 17,
   "metadata": {},
   "outputs": [
    {
     "data": {
      "text/plain": [
       "Native                                          185669\n",
       " Foreign born- Not a citizen of U S              14127\n",
       " Foreign born- U S citizen by naturalization      6208\n",
       " Native- Born abroad of American Parent(s)        1924\n",
       " Native- Born in Puerto Rico or U S Outlying      1571\n",
       "Name: citizenship, dtype: int64"
      ]
     },
     "execution_count": 17,
     "metadata": {},
     "output_type": "execute_result"
    }
   ],
   "source": [
    "df[\"citizenship\"].value_counts()"
   ]
  },
  {
   "cell_type": "code",
   "execution_count": 18,
   "metadata": {},
   "outputs": [
    {
     "data": {
      "text/plain": [
       " Female    108784\n",
       " Male      100715\n",
       "Name: gender, dtype: int64"
      ]
     },
     "execution_count": 18,
     "metadata": {},
     "output_type": "execute_result"
    }
   ],
   "source": [
    "df[\"gender\"].value_counts()"
   ]
  },
  {
   "cell_type": "code",
   "execution_count": 19,
   "metadata": {},
   "outputs": [
    {
     "data": {
      "text/plain": [
       "0    189556\n",
       "2     17088\n",
       "1      2855\n",
       "Name: employment_stat, dtype: int64"
      ]
     },
     "execution_count": 19,
     "metadata": {},
     "output_type": "execute_result"
    }
   ],
   "source": [
    "df[\"employment_stat\"].value_counts()"
   ]
  },
  {
   "cell_type": "code",
   "execution_count": 20,
   "metadata": {},
   "outputs": [
    {
     "data": {
      "text/plain": [
       "0     105694\n",
       "33     18040\n",
       "43      8739\n",
       "4       6414\n",
       "42      4934\n",
       "45      4627\n",
       "29      4419\n",
       "37      4285\n",
       "41      4088\n",
       "32      3846\n",
       "35      3474\n",
       "39      3056\n",
       "34      2862\n",
       "44      2677\n",
       "2       2298\n",
       "11      1823\n",
       "40      1779\n",
       "50      1769\n",
       "38      1736\n",
       "47      1701\n",
       "24      1580\n",
       "19      1439\n",
       "12      1399\n",
       "30      1260\n",
       "31      1238\n",
       "25      1104\n",
       "36      1028\n",
       "9       1024\n",
       "22       995\n",
       "13       966\n",
       "1        859\n",
       "48       646\n",
       "3        639\n",
       "27       621\n",
       "21       603\n",
       "49       590\n",
       "5        583\n",
       "23       567\n",
       "8        560\n",
       "6        552\n",
       "16       542\n",
       "18       485\n",
       "15       469\n",
       "7        464\n",
       "14       295\n",
       "46       201\n",
       "17       170\n",
       "28       153\n",
       "26       138\n",
       "20        32\n",
       "51        32\n",
       "10         4\n",
       "Name: industry_code, dtype: int64"
      ]
     },
     "execution_count": 20,
     "metadata": {},
     "output_type": "execute_result"
    }
   ],
   "source": [
    "df[\"industry_code\"].value_counts()"
   ]
  },
  {
   "cell_type": "code",
   "execution_count": 21,
   "metadata": {},
   "outputs": [
    {
     "data": {
      "text/plain": [
       "0"
      ]
     },
     "execution_count": 21,
     "metadata": {},
     "output_type": "execute_result"
    }
   ],
   "source": [
    "min(df[\"industry_code\"])"
   ]
  },
  {
   "cell_type": "code",
   "execution_count": 22,
   "metadata": {},
   "outputs": [
    {
     "data": {
      "text/plain": [
       "51"
      ]
     },
     "execution_count": 22,
     "metadata": {},
     "output_type": "execute_result"
    }
   ],
   "source": [
    "max(df[\"industry_code\"])"
   ]
  },
  {
   "cell_type": "code",
   "execution_count": 24,
   "metadata": {},
   "outputs": [
    {
     "data": {
      "text/plain": [
       "Index(['tax_status', 'citizenship', 'gender', 'employment_stat',\n",
       "       'industry_code', 'wage_per_hour', 'mig_year', 'age',\n",
       "       'country_of_birth_father', 'stocks_status', 'income_above_limit'],\n",
       "      dtype='object')"
      ]
     },
     "execution_count": 24,
     "metadata": {},
     "output_type": "execute_result"
    }
   ],
   "source": [
    "df.columns"
   ]
  },
  {
   "cell_type": "code",
   "execution_count": 25,
   "metadata": {},
   "outputs": [
    {
     "data": {
      "text/plain": [
       "0       197643\n",
       "500        777\n",
       "600        585\n",
       "700        572\n",
       "800        512\n",
       "         ...  \n",
       "2226         1\n",
       "3190         1\n",
       "5250         1\n",
       "3500         1\n",
       "557          1\n",
       "Name: wage_per_hour, Length: 1232, dtype: int64"
      ]
     },
     "execution_count": 25,
     "metadata": {},
     "output_type": "execute_result"
    }
   ],
   "source": [
    "df[\"wage_per_hour\"].value_counts()"
   ]
  },
  {
   "cell_type": "code",
   "execution_count": 31,
   "metadata": {},
   "outputs": [
    {
     "data": {
      "text/plain": [
       "0"
      ]
     },
     "execution_count": 31,
     "metadata": {},
     "output_type": "execute_result"
    }
   ],
   "source": [
    "min(df[\"wage_per_hour\"])"
   ]
  },
  {
   "cell_type": "code",
   "execution_count": 32,
   "metadata": {},
   "outputs": [
    {
     "data": {
      "text/plain": [
       "9999"
      ]
     },
     "execution_count": 32,
     "metadata": {},
     "output_type": "execute_result"
    }
   ],
   "source": [
    "max(df[\"wage_per_hour\"])"
   ]
  },
  {
   "cell_type": "code",
   "execution_count": 26,
   "metadata": {},
   "outputs": [
    {
     "data": {
      "text/plain": [
       "94    104803\n",
       "95    104696\n",
       "Name: mig_year, dtype: int64"
      ]
     },
     "execution_count": 26,
     "metadata": {},
     "output_type": "execute_result"
    }
   ],
   "source": [
    "df[\"mig_year\"].value_counts()"
   ]
  },
  {
   "cell_type": "code",
   "execution_count": 27,
   "metadata": {},
   "outputs": [
    {
     "data": {
      "text/plain": [
       "US                               166968\n",
       " Mexico                           10517\n",
       " ?                                 7181\n",
       " Puerto-Rico                       2769\n",
       " Italy                             2358\n",
       " Dominican-Republic                1397\n",
       " Canada                            1396\n",
       " Germany                           1386\n",
       " Poland                            1262\n",
       " Philippines                       1215\n",
       " Cuba                              1208\n",
       " El-Salvador                       1058\n",
       " China                              878\n",
       " England                            829\n",
       " India                              645\n",
       " Columbia                           637\n",
       " Ireland                            558\n",
       " South Korea                        552\n",
       " Jamaica                            493\n",
       " Guatemala                          483\n",
       " Vietnam                            450\n",
       " Japan                              418\n",
       " Ecuador                            393\n",
       " Greece                             392\n",
       " Portugal                           389\n",
       " Haiti                              357\n",
       " Peru                               349\n",
       " Nicaragua                          343\n",
       " Hungary                            333\n",
       " Scotland                           249\n",
       " Iran                               230\n",
       " Yugoslavia                         222\n",
       " Honduras                           217\n",
       " Cambodia                           213\n",
       " Taiwan                             191\n",
       " France                             188\n",
       " Outlying-U S (Guam USVI etc)       166\n",
       " Laos                               165\n",
       " Trinadad&Tobago                    132\n",
       " Thailand                           116\n",
       " Hong Kong                          115\n",
       " Holand-Netherlands                  52\n",
       " Panama                              29\n",
       "Name: country_of_birth_father, dtype: int64"
      ]
     },
     "execution_count": 27,
     "metadata": {},
     "output_type": "execute_result"
    }
   ],
   "source": [
    "df[\"country_of_birth_father\"].value_counts()"
   ]
  },
  {
   "cell_type": "code",
   "execution_count": 28,
   "metadata": {},
   "outputs": [
    {
     "data": {
      "text/plain": [
       "0       187467\n",
       "100       1202\n",
       "500       1061\n",
       "200        969\n",
       "1000       948\n",
       "         ...  \n",
       "1085         1\n",
       "3396         1\n",
       "358          1\n",
       "627          1\n",
       "3508         1\n",
       "Name: stocks_status, Length: 1499, dtype: int64"
      ]
     },
     "execution_count": 28,
     "metadata": {},
     "output_type": "execute_result"
    }
   ],
   "source": [
    "df[\"stocks_status\"].value_counts()"
   ]
  },
  {
   "cell_type": "code",
   "execution_count": 33,
   "metadata": {},
   "outputs": [
    {
     "data": {
      "text/plain": [
       "0"
      ]
     },
     "execution_count": 33,
     "metadata": {},
     "output_type": "execute_result"
    }
   ],
   "source": [
    "min(df[\"stocks_status\"])"
   ]
  },
  {
   "cell_type": "code",
   "execution_count": 34,
   "metadata": {},
   "outputs": [
    {
     "data": {
      "text/plain": [
       "99999"
      ]
     },
     "execution_count": 34,
     "metadata": {},
     "output_type": "execute_result"
    }
   ],
   "source": [
    "max(df[\"stocks_status\"])"
   ]
  },
  {
   "cell_type": "code",
   "execution_count": 35,
   "metadata": {},
   "outputs": [
    {
     "data": {
      "text/plain": [
       "Index(['tax_status', 'citizenship', 'gender', 'employment_stat',\n",
       "       'industry_code', 'wage_per_hour', 'mig_year', 'age',\n",
       "       'country_of_birth_father', 'stocks_status', 'income_above_limit'],\n",
       "      dtype='object')"
      ]
     },
     "execution_count": 35,
     "metadata": {},
     "output_type": "execute_result"
    }
   ],
   "source": [
    "df.columns"
   ]
  },
  {
   "cell_type": "code",
   "execution_count": null,
   "metadata": {},
   "outputs": [],
   "source": []
  }
 ],
 "metadata": {
  "kernelspec": {
   "display_name": "Python 3",
   "language": "python",
   "name": "python3"
  },
  "language_info": {
   "codemirror_mode": {
    "name": "ipython",
    "version": 3
   },
   "file_extension": ".py",
   "mimetype": "text/x-python",
   "name": "python",
   "nbconvert_exporter": "python",
   "pygments_lexer": "ipython3",
   "version": "3.10.13"
  },
  "orig_nbformat": 4
 },
 "nbformat": 4,
 "nbformat_minor": 2
}
